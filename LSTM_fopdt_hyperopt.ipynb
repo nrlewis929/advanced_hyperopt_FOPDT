{
 "cells": [
  {
   "cell_type": "code",
   "execution_count": 1,
   "metadata": {
    "ExecuteTime": {
     "end_time": "2021-01-20T01:33:07.033498Z",
     "start_time": "2021-01-20T01:32:57.572580Z"
    }
   },
   "outputs": [],
   "source": [
    "import numpy as np\n",
    "import pandas as pd\n",
    "import matplotlib.pyplot as plt\n",
    "%matplotlib inline\n",
    "import time\n",
    "import random\n",
    "\n",
    "# For preprocessing\n",
    "from sklearn.preprocessing import MinMaxScaler\n",
    "from sklearn.model_selection import train_test_split \n",
    "\n",
    "# For LSTM model\n",
    "from keras.models import Sequential\n",
    "from keras.layers import Dense\n",
    "from keras.layers import LSTM\n",
    "from keras.layers import Dropout\n",
    "from keras.callbacks import EarlyStopping\n",
    "from tqdm.keras import TqdmCallback\n",
    "\n",
    "# For FOPDT model\n",
    "from scipy.integrate import odeint\n",
    "\n",
    "# For hyperopt (parameter optimization)\n",
    "# ! pip install hyperopt\n",
    "from hyperopt import Trials, STATUS_OK, tpe, fmin, hp"
   ]
  },
  {
   "cell_type": "code",
   "execution_count": 2,
   "metadata": {
    "ExecuteTime": {
     "end_time": "2021-01-20T01:33:07.048665Z",
     "start_time": "2021-01-20T01:33:07.037014Z"
    }
   },
   "outputs": [],
   "source": [
    "# Define functions to generate FOPDT model data\n",
    "def fopdt(y,t,um,Km,taum):\n",
    "    # arguments\n",
    "    #  y      = output\n",
    "    #  t      = time\n",
    "    #  uf     = input linear function (for time shift)\n",
    "    #  Km     = model gain\n",
    "    #  taum   = model time constant\n",
    "    # calculate derivative\n",
    "    dydt = (-(y-yp0) + Km * (um-u0))/taum\n",
    "    return dydt\n",
    "\n",
    "# simulate simple model with x=[Km,taum]\n",
    "def sim_model(Km,taum):\n",
    "    # array for model values\n",
    "    ym = np.zeros(ns)\n",
    "    # initial condition\n",
    "    ym[0] = yp0\n",
    "    # loop through time steps    \n",
    "    for i in range(0,ns-1):\n",
    "        ts = [t[i],t[i+1]]\n",
    "        y1 = odeint(fopdt,ym[i],ts,args=(u[i],Km,taum))\n",
    "        ym[i+1] = y1[-1]\n",
    "    return ym"
   ]
  },
  {
   "cell_type": "code",
   "execution_count": 3,
   "metadata": {
    "ExecuteTime": {
     "end_time": "2021-01-20T01:33:10.848440Z",
     "start_time": "2021-01-20T01:33:09.635266Z"
    },
    "scrolled": true
   },
   "outputs": [
    {
     "data": {
      "image/png": "[encoded data removed]",
      "text/plain": [
       "<Figure size 432x288 with 1 Axes>"
      ]
     },
     "metadata": {
      "needs_background": "light"
     },
     "output_type": "display_data"
    }
   ],
   "source": [
    "# Parameters and time for FOPDT model\n",
    "ns = 10000\n",
    "t = np.linspace(0,ns-1,ns)\n",
    "u = np.zeros(ns)\n",
    "\n",
    "# Additional FOPDT parameters\n",
    "yp0 = 0.0\n",
    "u0 = u[0]\n",
    "Km = 0.67\n",
    "taum = 160.0\n",
    "\n",
    "# Generate step data for u\n",
    "end = 60 # leave 1st minute of u as 0\n",
    "while end <= ns:\n",
    "    start = end\n",
    "    end += random.randint(300,900) # keep new Q1s value for anywhere from 5 to 15 minutes\n",
    "    u[start:end] = random.randint(0,100)\n",
    "\n",
    "# Simulate FOPDT model\n",
    "y = sim_model(Km,taum)\n",
    "\n",
    "# Add Gaussian noise\n",
    "noise = np.random.normal(0,0.2,ns)\n",
    "y += noise\n",
    "\n",
    "# Scale data\n",
    "data = np.vstack((u,y)).T\n",
    "s = MinMaxScaler(feature_range=(0,1))\n",
    "data_s = s.fit_transform(data)\n",
    "\n",
    "# Plot FOPDT model\n",
    "plt.plot(y,':',label='Speed (mph)')\n",
    "plt.plot(u,label='Pedal (%)')\n",
    "plt.axvspan(ns-int(ns/5.0),ns,alpha=0.2,color='gray')\n",
    "plt.xlabel('Time')\n",
    "plt.legend();"
   ]
  },
  {
   "cell_type": "code",
   "execution_count": 4,
   "metadata": {
    "ExecuteTime": {
     "end_time": "2021-01-20T01:33:18.574356Z",
     "start_time": "2021-01-20T01:33:18.560083Z"
    },
    "scrolled": false
   },
   "outputs": [],
   "source": [
    "def format_data(window=30):\n",
    "    # arrange data to LSTM input and output with specified window\n",
    "    X = []\n",
    "    y = []\n",
    "    for i in range(window,len(data_s)):\n",
    "        X.append(data_s[i-window:i])\n",
    "        y.append(data_s[i,1])\n",
    "    \n",
    "    # Format to array for LSTM input\n",
    "    X, y = np.array(X), np.array(y)\n",
    "    \n",
    "    # Split into train and test\n",
    "    Xtrain, Xtest, ytrain, ytest = train_test_split(X,y,test_size=0.2,shuffle=False)        \n",
    "    \n",
    "    return Xtrain, ytrain, Xtest, ytest"
   ]
  },
  {
   "cell_type": "code",
   "execution_count": 5,
   "metadata": {
    "ExecuteTime": {
     "end_time": "2021-01-20T01:33:21.308215Z",
     "start_time": "2021-01-20T01:33:21.293967Z"
    }
   },
   "outputs": [],
   "source": [
    "from hyperopt.pyll.base import scope #quniform returns float, some parameters require int; use this to force int\n",
    "\n",
    "space = {'rate'       : hp.uniform('rate',0.01,0.5),\n",
    "         'units'      : scope.int(hp.quniform('units',10,100,5)),\n",
    "         'batch_size' : scope.int(hp.quniform('batch_size',100,250,25)),\n",
    "         'layers'     : scope.int(hp.quniform('layers',1,6,1)),\n",
    "         'window'     : scope.int(hp.quniform('window',10,50,5))\n",
    "        }"
   ]
  },
  {
   "cell_type": "code",
   "execution_count": 6,
   "metadata": {
    "ExecuteTime": {
     "end_time": "2021-01-20T01:33:26.125701Z",
     "start_time": "2021-01-20T01:33:26.099985Z"
    }
   },
   "outputs": [],
   "source": [
    "def f_nn(params):\n",
    "    # Generate data with given window\n",
    "    Xtrain, ytrain, Xtest, ytest = format_data(window=params['window'])\n",
    "    \n",
    "    # Keras LSTM model\n",
    "    model = Sequential()\n",
    "    \n",
    "    if params['layers'] == 1:\n",
    "        model.add(LSTM(units=params['units'], input_shape=(Xtrain.shape[1],Xtrain.shape[2])))\n",
    "        model.add(Dropout(rate=params['rate']))\n",
    "    else:\n",
    "        # First layer specifies input_shape and returns sequences\n",
    "        model.add(LSTM(units=params['units'], return_sequences=True, input_shape=(Xtrain.shape[1],Xtrain.shape[2])))\n",
    "        model.add(Dropout(rate=params['rate']))\n",
    "        # Middle layers return sequences\n",
    "        for i in range(params['layers']-2):\n",
    "            model.add(LSTM(units=params['units'],return_sequences=True))\n",
    "            model.add(Dropout(rate=params['rate']))\n",
    "        # Last layer doesn't return anything\n",
    "        model.add(LSTM(units=params['units']))\n",
    "        model.add(Dropout(rate=params['rate']))\n",
    "\n",
    "    model.add(Dense(1))\n",
    "    model.compile(optimizer='adam', loss='mean_squared_error')\n",
    "    \n",
    "    es = EarlyStopping(monitor='val_loss',mode='min',verbose=1,patience=15)\n",
    "\n",
    "    result = model.fit(Xtrain, ytrain, verbose=0, validation_split=0.1,\n",
    "                       batch_size=params['batch_size'],\n",
    "                       epochs=200,\n",
    "                       callbacks=[es,TqdmCallback(verbose=1)]\n",
    "                      )\n",
    "    \n",
    "    #get the lowest validation loss of the training epochs\n",
    "    validation_loss = np.amin(result.history['val_loss']) \n",
    "    print('Best validation loss of epoch:', validation_loss)\n",
    "    \n",
    "    return {'loss': validation_loss, 'status': STATUS_OK, 'model': model, 'params': params}"
   ]
  },
  {
   "cell_type": "code",
   "execution_count": 7,
   "metadata": {
    "ExecuteTime": {
     "end_time": "2021-01-20T05:36:42.280348Z",
     "start_time": "2021-01-20T01:34:17.033388Z"
    }
   },
   "outputs": [
    {
     "name": "stdout",
     "output_type": "stream",
     "text": [
      "\r",
      "  0%|                                                                           | 0/50 [00:00<?, ?trial/s, best loss=?]"
     ]
    },
    {
     "data": {
      "application/vnd.jupyter.widget-view+json": {
       "model_id": "7453bd82a6004affb780a5a9d93d20b5",
       "version_major": 2,
       "version_minor": 0
      },
      "text/plain": [
       "|          | 0/? [00:00<?, ?epoch/s]"
      ]
     },
     "metadata": {},
     "output_type": "display_data"
    },
    {
     "data": {
      "application/vnd.jupyter.widget-view+json": {
       "model_id": "",
       "version_major": 2,
       "version_minor": 0
      },
      "text/plain": [
       "|          | 0/? [00:00<?, ?batch/s]"
      ]
     },
     "metadata": {},
     "output_type": "display_data"
    },
    {
     "name": "stdout",
     "output_type": "stream",
     "text": [
      "Epoch 00059: early stopping                                                                                            \n",
      "Best validation loss of epoch:                                                                                         \n",
      "1.11599465526524e-05                                                                                                   \n",
      "  2%|▉                                           | 1/50 [04:41<3:49:31, 281.06s/trial, best loss: 1.11599465526524e-05]"
     ]
    },
    {
     "data": {
      "application/vnd.jupyter.widget-view+json": {
       "model_id": "5ab01d87dcbc4f8d871606eb8135d588",
       "version_major": 2,
       "version_minor": 0
      },
      "text/plain": [
       "|          | 0/? [00:00<?, ?epoch/s]"
      ]
     },
     "metadata": {},
     "output_type": "display_data"
    },
    {
     "data": {
      "application/vnd.jupyter.widget-view+json": {
       "model_id": "",
       "version_major": 2,
       "version_minor": 0
      },
      "text/plain": [
       "|          | 0/? [00:00<?, ?batch/s]"
      ]
     },
     "metadata": {},
     "output_type": "display_data"
    },
    {
     "name": "stdout",
     "output_type": "stream",
     "text": [
      "Epoch 00020: early stopping                                                                                            \n",
      "Best validation loss of epoch:                                                                                         \n",
      "5.6103435781551525e-05                                                                                                 \n",
      "  4%|█▊                                          | 2/50 [07:44<2:58:53, 223.62s/trial, best loss: 1.11599465526524e-05]"
     ]
    },
    {
     "data": {
      "application/vnd.jupyter.widget-view+json": {
       "model_id": "bee2c1cf9fec4680a3956d23967b6b02",
       "version_major": 2,
       "version_minor": 0
      },
      "text/plain": [
       "|          | 0/? [00:00<?, ?epoch/s]"
      ]
     },
     "metadata": {},
     "output_type": "display_data"
    },
    {
     "data": {
      "application/vnd.jupyter.widget-view+json": {
       "model_id": "",
       "version_major": 2,
       "version_minor": 0
      },
      "text/plain": [
       "|          | 0/? [00:00<?, ?batch/s]"
      ]
     },
     "metadata": {},
     "output_type": "display_data"
    },
    {
     "name": "stdout",
     "output_type": "stream",
     "text": [
      "Epoch 00047: early stopping                                                                                            \n",
      "Best validation loss of epoch:                                                                                         \n",
      "1.2837354915973265e-05                                                                                                 \n",
      "  6%|██▋                                         | 3/50 [10:07<2:26:12, 186.64s/trial, best loss: 1.11599465526524e-05]"
     ]
    },
    {
     "data": {
      "application/vnd.jupyter.widget-view+json": {
       "model_id": "dbf0616df74c4e52943c0f95d7ec5f77",
       "version_major": 2,
       "version_minor": 0
      },
      "text/plain": [
       "|          | 0/? [00:00<?, ?epoch/s]"
      ]
     },
     "metadata": {},
     "output_type": "display_data"
    },
    {
     "data": {
      "application/vnd.jupyter.widget-view+json": {
       "model_id": "",
       "version_major": 2,
       "version_minor": 0
      },
      "text/plain": [
       "|          | 0/? [00:00<?, ?batch/s]"
      ]
     },
     "metadata": {},
     "output_type": "display_data"
    },
    {
     "name": "stdout",
     "output_type": "stream",
     "text": [
      "Epoch 00062: early stopping                                                                                            \n",
      "Best validation loss of epoch:                                                                                         \n",
      "2.0295776266721077e-05                                                                                                 \n",
      "  8%|███▌                                        | 4/50 [12:48<2:15:27, 176.68s/trial, best loss: 1.11599465526524e-05]"
     ]
    },
    {
     "data": {
      "application/vnd.jupyter.widget-view+json": {
       "model_id": "aaa1e22332a74c749bd63488d42ec34b",
       "version_major": 2,
       "version_minor": 0
      },
      "text/plain": [
       "|          | 0/? [00:00<?, ?epoch/s]"
      ]
     },
     "metadata": {},
     "output_type": "display_data"
    },
    {
     "data": {
      "application/vnd.jupyter.widget-view+json": {
       "model_id": "",
       "version_major": 2,
       "version_minor": 0
      },
      "text/plain": [
       "|          | 0/? [00:00<?, ?batch/s]"
      ]
     },
     "metadata": {},
     "output_type": "display_data"
    },
    {
     "name": "stdout",
     "output_type": "stream",
     "text": [
      "Epoch 00027: early stopping                                                                                            \n",
      "Best validation loss of epoch:                                                                                         \n",
      "1.565323145769071e-05                                                                                                  \n",
      " 10%|████▍                                       | 5/50 [14:50<1:57:47, 157.06s/trial, best loss: 1.11599465526524e-05]"
     ]
    },
    {
     "data": {
      "application/vnd.jupyter.widget-view+json": {
       "model_id": "490960adeed84246a28e4aab00387acb",
       "version_major": 2,
       "version_minor": 0
      },
      "text/plain": [
       "|          | 0/? [00:00<?, ?epoch/s]"
      ]
     },
     "metadata": {},
     "output_type": "display_data"
    },
    {
     "data": {
      "application/vnd.jupyter.widget-view+json": {
       "model_id": "",
       "version_major": 2,
       "version_minor": 0
      },
      "text/plain": [
       "|          | 0/? [00:00<?, ?batch/s]"
      ]
     },
     "metadata": {},
     "output_type": "display_data"
    },
    {
     "name": "stdout",
     "output_type": "stream",
     "text": [
      "Epoch 00053: early stopping                                                                                            \n",
      "Best validation loss of epoch:                                                                                         \n",
      "2.214546111645177e-05                                                                                                  \n",
      " 12%|█████▎                                      | 6/50 [20:27<2:39:51, 217.98s/trial, best loss: 1.11599465526524e-05]"
     ]
    },
    {
     "data": {
      "application/vnd.jupyter.widget-view+json": {
       "model_id": "497a8e8d389e43d1bb97feb7dba65184",
       "version_major": 2,
       "version_minor": 0
      },
      "text/plain": [
       "|          | 0/? [00:00<?, ?epoch/s]"
      ]
     },
     "metadata": {},
     "output_type": "display_data"
    },
    {
     "data": {
      "application/vnd.jupyter.widget-view+json": {
       "model_id": "",
       "version_major": 2,
       "version_minor": 0
      },
      "text/plain": [
       "|          | 0/? [00:00<?, ?batch/s]"
      ]
     },
     "metadata": {},
     "output_type": "display_data"
    },
    {
     "name": "stdout",
     "output_type": "stream",
     "text": [
      "Epoch 00025: early stopping                                                                                            \n",
      "Best validation loss of epoch:                                                                                         \n",
      "2.7997013603453524e-05                                                                                                 \n",
      " 14%|██████▏                                     | 7/50 [22:31<2:14:21, 187.47s/trial, best loss: 1.11599465526524e-05]"
     ]
    },
    {
     "data": {
      "application/vnd.jupyter.widget-view+json": {
       "model_id": "2a10fdb16e044c22aa65c2666a7ef522",
       "version_major": 2,
       "version_minor": 0
      },
      "text/plain": [
       "|          | 0/? [00:00<?, ?epoch/s]"
      ]
     },
     "metadata": {},
     "output_type": "display_data"
    },
    {
     "data": {
      "application/vnd.jupyter.widget-view+json": {
       "model_id": "",
       "version_major": 2,
       "version_minor": 0
      },
      "text/plain": [
       "|          | 0/? [00:00<?, ?batch/s]"
      ]
     },
     "metadata": {},
     "output_type": "display_data"
    },
    {
     "name": "stdout",
     "output_type": "stream",
     "text": [
      "Epoch 00040: early stopping                                                                                            \n",
      "Best validation loss of epoch:                                                                                         \n",
      "1.907170553749893e-05                                                                                                  \n",
      " 16%|███████                                     | 8/50 [26:03<2:16:45, 195.38s/trial, best loss: 1.11599465526524e-05]"
     ]
    },
    {
     "data": {
      "application/vnd.jupyter.widget-view+json": {
       "model_id": "4eab6161696a434ab1286b3544684539",
       "version_major": 2,
       "version_minor": 0
      },
      "text/plain": [
       "|          | 0/? [00:00<?, ?epoch/s]"
      ]
     },
     "metadata": {},
     "output_type": "display_data"
    },
    {
     "data": {
      "application/vnd.jupyter.widget-view+json": {
       "model_id": "",
       "version_major": 2,
       "version_minor": 0
      },
      "text/plain": [
       "|          | 0/? [00:00<?, ?batch/s]"
      ]
     },
     "metadata": {},
     "output_type": "display_data"
    },
    {
     "name": "stdout",
     "output_type": "stream",
     "text": [
      "Epoch 00020: early stopping                                                                                            \n",
      "Best validation loss of epoch:                                                                                         \n",
      "2.0745612346217968e-05                                                                                                 \n",
      " 18%|███████▉                                    | 9/50 [28:04<1:57:28, 171.92s/trial, best loss: 1.11599465526524e-05]"
     ]
    },
    {
     "data": {
      "application/vnd.jupyter.widget-view+json": {
       "model_id": "dc2b654c2f5841f6ab96e3d28fc1effa",
       "version_major": 2,
       "version_minor": 0
      },
      "text/plain": [
       "|          | 0/? [00:00<?, ?epoch/s]"
      ]
     },
     "metadata": {},
     "output_type": "display_data"
    },
    {
     "data": {
      "application/vnd.jupyter.widget-view+json": {
       "model_id": "",
       "version_major": 2,
       "version_minor": 0
      },
      "text/plain": [
       "|          | 0/? [00:00<?, ?batch/s]"
      ]
     },
     "metadata": {},
     "output_type": "display_data"
    },
    {
     "name": "stdout",
     "output_type": "stream",
     "text": [
      "Epoch 00038: early stopping                                                                                            \n",
      "Best validation loss of epoch:                                                                                         \n",
      "4.24704012402799e-05                                                                                                   \n",
      " 20%|████████▌                                  | 10/50 [30:30<1:49:22, 164.06s/trial, best loss: 1.11599465526524e-05]"
     ]
    },
    {
     "data": {
      "application/vnd.jupyter.widget-view+json": {
       "model_id": "9ae404451d6f472a9d6a38362217dc6f",
       "version_major": 2,
       "version_minor": 0
      },
      "text/plain": [
       "|          | 0/? [00:00<?, ?epoch/s]"
      ]
     },
     "metadata": {},
     "output_type": "display_data"
    },
    {
     "data": {
      "application/vnd.jupyter.widget-view+json": {
       "model_id": "",
       "version_major": 2,
       "version_minor": 0
      },
      "text/plain": [
       "|          | 0/? [00:00<?, ?batch/s]"
      ]
     },
     "metadata": {},
     "output_type": "display_data"
    },
    {
     "name": "stdout",
     "output_type": "stream",
     "text": [
      "Epoch 00054: early stopping                                                                                            \n",
      "Best validation loss of epoch:                                                                                         \n",
      "1.0850883882085327e-05                                                                                                 \n",
      " 22%|█████████                                | 11/50 [33:00<1:43:42, 159.55s/trial, best loss: 1.0850883882085327e-05]"
     ]
    },
    {
     "data": {
      "application/vnd.jupyter.widget-view+json": {
       "model_id": "7f5e1d3dd4c84bcda975e4c5f6879c5c",
       "version_major": 2,
       "version_minor": 0
      },
      "text/plain": [
       "|          | 0/? [00:00<?, ?epoch/s]"
      ]
     },
     "metadata": {},
     "output_type": "display_data"
    },
    {
     "data": {
      "application/vnd.jupyter.widget-view+json": {
       "model_id": "",
       "version_major": 2,
       "version_minor": 0
      },
      "text/plain": [
       "|          | 0/? [00:00<?, ?batch/s]"
      ]
     },
     "metadata": {},
     "output_type": "display_data"
    },
    {
     "name": "stdout",
     "output_type": "stream",
     "text": [
      "Epoch 00041: early stopping                                                                                            \n",
      "Best validation loss of epoch:                                                                                         \n",
      "1.603484997758642e-05                                                                                                  \n",
      " 24%|█████████▊                               | 12/50 [46:25<3:45:24, 355.92s/trial, best loss: 1.0850883882085327e-05]"
     ]
    },
    {
     "data": {
      "application/vnd.jupyter.widget-view+json": {
       "model_id": "6d9d3635b9384284a7b573406f178f94",
       "version_major": 2,
       "version_minor": 0
      },
      "text/plain": [
       "|          | 0/? [00:00<?, ?epoch/s]"
      ]
     },
     "metadata": {},
     "output_type": "display_data"
    },
    {
     "data": {
      "application/vnd.jupyter.widget-view+json": {
       "model_id": "",
       "version_major": 2,
       "version_minor": 0
      },
      "text/plain": [
       "|          | 0/? [00:00<?, ?batch/s]"
      ]
     },
     "metadata": {},
     "output_type": "display_data"
    },
    {
     "name": "stdout",
     "output_type": "stream",
     "text": [
      "Epoch 00097: early stopping                                                                                            \n",
      "Best validation loss of epoch:                                                                                         \n",
      "1.221446927957004e-05                                                                                                  \n",
      " 26%|██████████▋                              | 13/50 [48:15<2:53:37, 281.56s/trial, best loss: 1.0850883882085327e-05]"
     ]
    },
    {
     "data": {
      "application/vnd.jupyter.widget-view+json": {
       "model_id": "d5ac99df18024fd999412e9342859d1f",
       "version_major": 2,
       "version_minor": 0
      },
      "text/plain": [
       "|          | 0/? [00:00<?, ?epoch/s]"
      ]
     },
     "metadata": {},
     "output_type": "display_data"
    },
    {
     "data": {
      "application/vnd.jupyter.widget-view+json": {
       "model_id": "",
       "version_major": 2,
       "version_minor": 0
      },
      "text/plain": [
       "|          | 0/? [00:00<?, ?batch/s]"
      ]
     },
     "metadata": {},
     "output_type": "display_data"
    },
    {
     "name": "stdout",
     "output_type": "stream",
     "text": [
      "Epoch 00030: early stopping                                                                                            \n",
      "Best validation loss of epoch:                                                                                         \n",
      "4.345626075519249e-05                                                                                                  \n",
      " 28%|███████████▍                             | 14/50 [49:00<2:06:05, 210.17s/trial, best loss: 1.0850883882085327e-05]"
     ]
    },
    {
     "data": {
      "application/vnd.jupyter.widget-view+json": {
       "model_id": "4981df95b01b45fca20970dec6e59c0d",
       "version_major": 2,
       "version_minor": 0
      },
      "text/plain": [
       "|          | 0/? [00:00<?, ?epoch/s]"
      ]
     },
     "metadata": {},
     "output_type": "display_data"
    },
    {
     "data": {
      "application/vnd.jupyter.widget-view+json": {
       "model_id": "",
       "version_major": 2,
       "version_minor": 0
      },
      "text/plain": [
       "|          | 0/? [00:00<?, ?batch/s]"
      ]
     },
     "metadata": {},
     "output_type": "display_data"
    },
    {
     "name": "stdout",
     "output_type": "stream",
     "text": [
      "Epoch 00056: early stopping                                                                                            \n",
      "Best validation loss of epoch:                                                                                         \n",
      "1.722121305647306e-05                                                                                                  \n",
      " 30%|████████████▎                            | 15/50 [58:45<3:08:29, 323.13s/trial, best loss: 1.0850883882085327e-05]"
     ]
    },
    {
     "data": {
      "application/vnd.jupyter.widget-view+json": {
       "model_id": "1e4e1c6d017d4d2fbae973c7c69e53ed",
       "version_major": 2,
       "version_minor": 0
      },
      "text/plain": [
       "|          | 0/? [00:00<?, ?epoch/s]"
      ]
     },
     "metadata": {},
     "output_type": "display_data"
    },
    {
     "data": {
      "application/vnd.jupyter.widget-view+json": {
       "model_id": "",
       "version_major": 2,
       "version_minor": 0
      },
      "text/plain": [
       "|          | 0/? [00:00<?, ?batch/s]"
      ]
     },
     "metadata": {},
     "output_type": "display_data"
    },
    {
     "name": "stdout",
     "output_type": "stream",
     "text": [
      "Epoch 00030: early stopping                                                                                            \n",
      "Best validation loss of epoch:                                                                                         \n",
      "2.367109300394077e-05                                                                                                  \n",
      " 32%|████████████▍                          | 16/50 [1:02:15<2:43:44, 288.96s/trial, best loss: 1.0850883882085327e-05]"
     ]
    },
    {
     "data": {
      "application/vnd.jupyter.widget-view+json": {
       "model_id": "7ef12fe2440f43e79e8017cb9c7da0ce",
       "version_major": 2,
       "version_minor": 0
      },
      "text/plain": [
       "|          | 0/? [00:00<?, ?epoch/s]"
      ]
     },
     "metadata": {},
     "output_type": "display_data"
    },
    {
     "data": {
      "application/vnd.jupyter.widget-view+json": {
       "model_id": "",
       "version_major": 2,
       "version_minor": 0
      },
      "text/plain": [
       "|          | 0/? [00:00<?, ?batch/s]"
      ]
     },
     "metadata": {},
     "output_type": "display_data"
    },
    {
     "name": "stdout",
     "output_type": "stream",
     "text": [
      "Epoch 00027: early stopping                                                                                            \n",
      "Best validation loss of epoch:                                                                                         \n",
      "1.329816677753115e-05                                                                                                  \n",
      " 34%|█████████████▎                         | 17/50 [1:05:55<2:27:28, 268.13s/trial, best loss: 1.0850883882085327e-05]"
     ]
    },
    {
     "data": {
      "application/vnd.jupyter.widget-view+json": {
       "model_id": "8b0867dbbb894a879ce3241a07f16d5c",
       "version_major": 2,
       "version_minor": 0
      },
      "text/plain": [
       "|          | 0/? [00:00<?, ?epoch/s]"
      ]
     },
     "metadata": {},
     "output_type": "display_data"
    },
    {
     "data": {
      "application/vnd.jupyter.widget-view+json": {
       "model_id": "",
       "version_major": 2,
       "version_minor": 0
      },
      "text/plain": [
       "|          | 0/? [00:00<?, ?batch/s]"
      ]
     },
     "metadata": {},
     "output_type": "display_data"
    },
    {
     "name": "stdout",
     "output_type": "stream",
     "text": [
      "Epoch 00063: early stopping                                                                                            \n",
      "Best validation loss of epoch:                                                                                         \n",
      "1.629111466172617e-05                                                                                                  \n",
      " 36%|██████████████                         | 18/50 [1:08:52<2:08:24, 240.77s/trial, best loss: 1.0850883882085327e-05]"
     ]
    },
    {
     "data": {
      "application/vnd.jupyter.widget-view+json": {
       "model_id": "f55423840f83434286fd862c19e2aca2",
       "version_major": 2,
       "version_minor": 0
      },
      "text/plain": [
       "|          | 0/? [00:00<?, ?epoch/s]"
      ]
     },
     "metadata": {},
     "output_type": "display_data"
    },
    {
     "data": {
      "application/vnd.jupyter.widget-view+json": {
       "model_id": "",
       "version_major": 2,
       "version_minor": 0
      },
      "text/plain": [
       "|          | 0/? [00:00<?, ?batch/s]"
      ]
     },
     "metadata": {},
     "output_type": "display_data"
    },
    {
     "name": "stdout",
     "output_type": "stream",
     "text": [
      "Epoch 00063: early stopping                                                                                            \n",
      "Best validation loss of epoch:                                                                                         \n",
      "2.8603421014850028e-05                                                                                                 \n",
      " 38%|██████████████▊                        | 19/50 [1:14:04<2:15:33, 262.37s/trial, best loss: 1.0850883882085327e-05]"
     ]
    },
    {
     "data": {
      "application/vnd.jupyter.widget-view+json": {
       "model_id": "a9ca8dbdf3fd4cac96d40ce8676aa507",
       "version_major": 2,
       "version_minor": 0
      },
      "text/plain": [
       "|          | 0/? [00:00<?, ?epoch/s]"
      ]
     },
     "metadata": {},
     "output_type": "display_data"
    },
    {
     "data": {
      "application/vnd.jupyter.widget-view+json": {
       "model_id": "",
       "version_major": 2,
       "version_minor": 0
      },
      "text/plain": [
       "|          | 0/? [00:00<?, ?batch/s]"
      ]
     },
     "metadata": {},
     "output_type": "display_data"
    },
    {
     "name": "stdout",
     "output_type": "stream",
     "text": [
      "Epoch 00077: early stopping                                                                                            \n",
      "Best validation loss of epoch:                                                                                         \n",
      "1.4051164725970011e-05                                                                                                 \n",
      " 40%|███████████████▌                       | 20/50 [1:15:36<1:45:36, 211.21s/trial, best loss: 1.0850883882085327e-05]"
     ]
    },
    {
     "data": {
      "application/vnd.jupyter.widget-view+json": {
       "model_id": "04c35a8529a544e4b6efc5db2386c0ec",
       "version_major": 2,
       "version_minor": 0
      },
      "text/plain": [
       "|          | 0/? [00:00<?, ?epoch/s]"
      ]
     },
     "metadata": {},
     "output_type": "display_data"
    },
    {
     "data": {
      "application/vnd.jupyter.widget-view+json": {
       "model_id": "",
       "version_major": 2,
       "version_minor": 0
      },
      "text/plain": [
       "|          | 0/? [00:00<?, ?batch/s]"
      ]
     },
     "metadata": {},
     "output_type": "display_data"
    },
    {
     "name": "stdout",
     "output_type": "stream",
     "text": [
      "Epoch 00056: early stopping                                                                                            \n",
      "Best validation loss of epoch:                                                                                         \n",
      "1.2592536222655326e-05                                                                                                 \n",
      " 42%|████████████████▍                      | 21/50 [1:18:20<1:35:10, 196.92s/trial, best loss: 1.0850883882085327e-05]"
     ]
    },
    {
     "data": {
      "application/vnd.jupyter.widget-view+json": {
       "model_id": "a4dcacc3d6de45efbe9892cc345057d1",
       "version_major": 2,
       "version_minor": 0
      },
      "text/plain": [
       "|          | 0/? [00:00<?, ?epoch/s]"
      ]
     },
     "metadata": {},
     "output_type": "display_data"
    },
    {
     "data": {
      "application/vnd.jupyter.widget-view+json": {
       "model_id": "",
       "version_major": 2,
       "version_minor": 0
      },
      "text/plain": [
       "|          | 0/? [00:00<?, ?batch/s]"
      ]
     },
     "metadata": {},
     "output_type": "display_data"
    },
    {
     "name": "stdout",
     "output_type": "stream",
     "text": [
      "Epoch 00036: early stopping                                                                                            \n",
      "Best validation loss of epoch:                                                                                         \n",
      "3.59651749022305e-05                                                                                                   \n",
      " 44%|█████████████████▏                     | 22/50 [1:19:55<1:17:35, 166.26s/trial, best loss: 1.0850883882085327e-05]"
     ]
    },
    {
     "data": {
      "application/vnd.jupyter.widget-view+json": {
       "model_id": "92b14097a0a74a56922e4af971d967b5",
       "version_major": 2,
       "version_minor": 0
      },
      "text/plain": [
       "|          | 0/? [00:00<?, ?epoch/s]"
      ]
     },
     "metadata": {},
     "output_type": "display_data"
    },
    {
     "data": {
      "application/vnd.jupyter.widget-view+json": {
       "model_id": "",
       "version_major": 2,
       "version_minor": 0
      },
      "text/plain": [
       "|          | 0/? [00:00<?, ?batch/s]"
      ]
     },
     "metadata": {},
     "output_type": "display_data"
    },
    {
     "name": "stdout",
     "output_type": "stream",
     "text": [
      "Epoch 00042: early stopping                                                                                            \n",
      "Best validation loss of epoch:                                                                                         \n",
      "1.0679127626644913e-05                                                                                                 \n",
      " 46%|█████████████████▉                     | 23/50 [1:24:39<1:30:46, 201.71s/trial, best loss: 1.0679127626644913e-05]"
     ]
    },
    {
     "data": {
      "application/vnd.jupyter.widget-view+json": {
       "model_id": "8bb7714653d84af2a44e0a697566421d",
       "version_major": 2,
       "version_minor": 0
      },
      "text/plain": [
       "|          | 0/? [00:00<?, ?epoch/s]"
      ]
     },
     "metadata": {},
     "output_type": "display_data"
    },
    {
     "data": {
      "application/vnd.jupyter.widget-view+json": {
       "model_id": "",
       "version_major": 2,
       "version_minor": 0
      },
      "text/plain": [
       "|          | 0/? [00:00<?, ?batch/s]"
      ]
     },
     "metadata": {},
     "output_type": "display_data"
    },
    {
     "name": "stdout",
     "output_type": "stream",
     "text": [
      "Epoch 00056: early stopping                                                                                            \n",
      "Best validation loss of epoch:                                                                                         \n",
      "1.063839499693131e-05                                                                                                  \n",
      " 48%|███████████████████▏                    | 24/50 [1:31:10<1:51:59, 258.44s/trial, best loss: 1.063839499693131e-05]"
     ]
    },
    {
     "data": {
      "application/vnd.jupyter.widget-view+json": {
       "model_id": "5c5762bf003b4a61acc3cce8a0ea507b",
       "version_major": 2,
       "version_minor": 0
      },
      "text/plain": [
       "|          | 0/? [00:00<?, ?epoch/s]"
      ]
     },
     "metadata": {},
     "output_type": "display_data"
    },
    {
     "data": {
      "application/vnd.jupyter.widget-view+json": {
       "model_id": "",
       "version_major": 2,
       "version_minor": 0
      },
      "text/plain": [
       "|          | 0/? [00:00<?, ?batch/s]"
      ]
     },
     "metadata": {},
     "output_type": "display_data"
    },
    {
     "name": "stdout",
     "output_type": "stream",
     "text": [
      "Epoch 00076: early stopping                                                                                            \n",
      "Best validation loss of epoch:                                                                                         \n",
      "1.2002789844700601e-05                                                                                                 \n",
      " 50%|████████████████████                    | 25/50 [1:34:44<1:42:10, 245.23s/trial, best loss: 1.063839499693131e-05]"
     ]
    },
    {
     "data": {
      "application/vnd.jupyter.widget-view+json": {
       "model_id": "b02b361b8f1448788d764080c9a59e12",
       "version_major": 2,
       "version_minor": 0
      },
      "text/plain": [
       "|          | 0/? [00:00<?, ?epoch/s]"
      ]
     },
     "metadata": {},
     "output_type": "display_data"
    },
    {
     "data": {
      "application/vnd.jupyter.widget-view+json": {
       "model_id": "",
       "version_major": 2,
       "version_minor": 0
      },
      "text/plain": [
       "|          | 0/? [00:00<?, ?batch/s]"
      ]
     },
     "metadata": {},
     "output_type": "display_data"
    },
    {
     "name": "stdout",
     "output_type": "stream",
     "text": [
      "Epoch 00078: early stopping                                                                                            \n",
      "Best validation loss of epoch:                                                                                         \n",
      "1.0214214853476733e-05                                                                                                 \n",
      " 52%|████████████████████▎                  | 26/50 [1:44:25<2:18:22, 345.92s/trial, best loss: 1.0214214853476733e-05]"
     ]
    },
    {
     "data": {
      "application/vnd.jupyter.widget-view+json": {
       "model_id": "7174b354b2cd4d008ff47208e58521cb",
       "version_major": 2,
       "version_minor": 0
      },
      "text/plain": [
       "|          | 0/? [00:00<?, ?epoch/s]"
      ]
     },
     "metadata": {},
     "output_type": "display_data"
    },
    {
     "data": {
      "application/vnd.jupyter.widget-view+json": {
       "model_id": "",
       "version_major": 2,
       "version_minor": 0
      },
      "text/plain": [
       "|          | 0/? [00:00<?, ?batch/s]"
      ]
     },
     "metadata": {},
     "output_type": "display_data"
    },
    {
     "name": "stdout",
     "output_type": "stream",
     "text": [
      "Epoch 00059: early stopping                                                                                            \n",
      "Best validation loss of epoch:                                                                                         \n",
      "1.2030785001115873e-05                                                                                                 \n",
      " 54%|█████████████████████                  | 27/50 [1:50:27<2:14:26, 350.74s/trial, best loss: 1.0214214853476733e-05]"
     ]
    },
    {
     "data": {
      "application/vnd.jupyter.widget-view+json": {
       "model_id": "efcb611047014832a14ecf85aade9591",
       "version_major": 2,
       "version_minor": 0
      },
      "text/plain": [
       "|          | 0/? [00:00<?, ?epoch/s]"
      ]
     },
     "metadata": {},
     "output_type": "display_data"
    },
    {
     "data": {
      "application/vnd.jupyter.widget-view+json": {
       "model_id": "",
       "version_major": 2,
       "version_minor": 0
      },
      "text/plain": [
       "|          | 0/? [00:00<?, ?batch/s]"
      ]
     },
     "metadata": {},
     "output_type": "display_data"
    },
    {
     "name": "stdout",
     "output_type": "stream",
     "text": [
      "Epoch 00100: early stopping                                                                                            \n",
      "Best validation loss of epoch:                                                                                         \n",
      "1.0220901458524168e-05                                                                                                 \n",
      " 56%|█████████████████████▊                 | 28/50 [1:56:01<2:06:47, 345.80s/trial, best loss: 1.0214214853476733e-05]"
     ]
    },
    {
     "data": {
      "application/vnd.jupyter.widget-view+json": {
       "model_id": "05c65ede0f1a49a9abd13b2ab50d1dcb",
       "version_major": 2,
       "version_minor": 0
      },
      "text/plain": [
       "|          | 0/? [00:00<?, ?epoch/s]"
      ]
     },
     "metadata": {},
     "output_type": "display_data"
    },
    {
     "data": {
      "application/vnd.jupyter.widget-view+json": {
       "model_id": "",
       "version_major": 2,
       "version_minor": 0
      },
      "text/plain": [
       "|          | 0/? [00:00<?, ?batch/s]"
      ]
     },
     "metadata": {},
     "output_type": "display_data"
    },
    {
     "name": "stdout",
     "output_type": "stream",
     "text": [
      "Epoch 00099: early stopping                                                                                            \n",
      "Best validation loss of epoch:                                                                                         \n",
      "1.0992902389261872e-05                                                                                                 \n",
      " 58%|██████████████████████▌                | 29/50 [1:59:46<1:48:18, 309.45s/trial, best loss: 1.0214214853476733e-05]"
     ]
    },
    {
     "data": {
      "application/vnd.jupyter.widget-view+json": {
       "model_id": "22ae25b7237540a59134f03da910ecc5",
       "version_major": 2,
       "version_minor": 0
      },
      "text/plain": [
       "|          | 0/? [00:00<?, ?epoch/s]"
      ]
     },
     "metadata": {},
     "output_type": "display_data"
    },
    {
     "data": {
      "application/vnd.jupyter.widget-view+json": {
       "model_id": "",
       "version_major": 2,
       "version_minor": 0
      },
      "text/plain": [
       "|          | 0/? [00:00<?, ?batch/s]"
      ]
     },
     "metadata": {},
     "output_type": "display_data"
    },
    {
     "name": "stdout",
     "output_type": "stream",
     "text": [
      "Epoch 00077: early stopping                                                                                            \n",
      "Best validation loss of epoch:                                                                                         \n",
      "1.1002910468960181e-05                                                                                                 \n",
      " 60%|███████████████████████▍               | 30/50 [2:03:22<1:33:50, 281.55s/trial, best loss: 1.0214214853476733e-05]"
     ]
    },
    {
     "data": {
      "application/vnd.jupyter.widget-view+json": {
       "model_id": "8ee4a67cb1dd4ec29b965a240af4fbb2",
       "version_major": 2,
       "version_minor": 0
      },
      "text/plain": [
       "|          | 0/? [00:00<?, ?epoch/s]"
      ]
     },
     "metadata": {},
     "output_type": "display_data"
    },
    {
     "data": {
      "application/vnd.jupyter.widget-view+json": {
       "model_id": "",
       "version_major": 2,
       "version_minor": 0
      },
      "text/plain": [
       "|          | 0/? [00:00<?, ?batch/s]"
      ]
     },
     "metadata": {},
     "output_type": "display_data"
    },
    {
     "name": "stdout",
     "output_type": "stream",
     "text": [
      "Epoch 00056: early stopping                                                                                            \n",
      "Best validation loss of epoch:                                                                                         \n",
      "1.1515979167597834e-05                                                                                                 \n",
      " 62%|████████████████████████▏              | 31/50 [2:06:24<1:19:37, 251.45s/trial, best loss: 1.0214214853476733e-05]"
     ]
    },
    {
     "data": {
      "application/vnd.jupyter.widget-view+json": {
       "model_id": "17e958b2915943e1ab0c6611d40062ed",
       "version_major": 2,
       "version_minor": 0
      },
      "text/plain": [
       "|          | 0/? [00:00<?, ?epoch/s]"
      ]
     },
     "metadata": {},
     "output_type": "display_data"
    },
    {
     "data": {
      "application/vnd.jupyter.widget-view+json": {
       "model_id": "",
       "version_major": 2,
       "version_minor": 0
      },
      "text/plain": [
       "|          | 0/? [00:00<?, ?batch/s]"
      ]
     },
     "metadata": {},
     "output_type": "display_data"
    },
    {
     "name": "stdout",
     "output_type": "stream",
     "text": [
      "Epoch 00052: early stopping                                                                                            \n",
      "Best validation loss of epoch:                                                                                         \n",
      "1.4877787180012092e-05                                                                                                 \n",
      " 64%|████████████████████████▉              | 32/50 [2:14:37<1:37:12, 324.02s/trial, best loss: 1.0214214853476733e-05]"
     ]
    },
    {
     "data": {
      "application/vnd.jupyter.widget-view+json": {
       "model_id": "f70f7ca3ce894a7d879980280fd62392",
       "version_major": 2,
       "version_minor": 0
      },
      "text/plain": [
       "|          | 0/? [00:00<?, ?epoch/s]"
      ]
     },
     "metadata": {},
     "output_type": "display_data"
    },
    {
     "data": {
      "application/vnd.jupyter.widget-view+json": {
       "model_id": "",
       "version_major": 2,
       "version_minor": 0
      },
      "text/plain": [
       "|          | 0/? [00:00<?, ?batch/s]"
      ]
     },
     "metadata": {},
     "output_type": "display_data"
    },
    {
     "name": "stdout",
     "output_type": "stream",
     "text": [
      "Epoch 00100: early stopping                                                                                            \n",
      "Best validation loss of epoch:                                                                                         \n",
      "1.6354901163140312e-05                                                                                                 \n",
      " 66%|█████████████████████████▋             | 33/50 [2:16:22<1:13:12, 258.35s/trial, best loss: 1.0214214853476733e-05]"
     ]
    },
    {
     "data": {
      "application/vnd.jupyter.widget-view+json": {
       "model_id": "4590d4aa3fbb4223be2624317a9da04c",
       "version_major": 2,
       "version_minor": 0
      },
      "text/plain": [
       "|          | 0/? [00:00<?, ?epoch/s]"
      ]
     },
     "metadata": {},
     "output_type": "display_data"
    },
    {
     "data": {
      "application/vnd.jupyter.widget-view+json": {
       "model_id": "",
       "version_major": 2,
       "version_minor": 0
      },
      "text/plain": [
       "|          | 0/? [00:00<?, ?batch/s]"
      ]
     },
     "metadata": {},
     "output_type": "display_data"
    },
    {
     "name": "stdout",
     "output_type": "stream",
     "text": [
      "Epoch 00075: early stopping                                                                                            \n",
      "Best validation loss of epoch:                                                                                         \n",
      "1.1011265996785369e-05                                                                                                 \n",
      " 68%|██████████████████████████▌            | 34/50 [2:24:08<1:25:28, 320.55s/trial, best loss: 1.0214214853476733e-05]"
     ]
    },
    {
     "data": {
      "application/vnd.jupyter.widget-view+json": {
       "model_id": "d8a02e2f2bf74471a369d058c49b7379",
       "version_major": 2,
       "version_minor": 0
      },
      "text/plain": [
       "|          | 0/? [00:00<?, ?epoch/s]"
      ]
     },
     "metadata": {},
     "output_type": "display_data"
    },
    {
     "data": {
      "application/vnd.jupyter.widget-view+json": {
       "model_id": "",
       "version_major": 2,
       "version_minor": 0
      },
      "text/plain": [
       "|          | 0/? [00:00<?, ?batch/s]"
      ]
     },
     "metadata": {},
     "output_type": "display_data"
    },
    {
     "name": "stdout",
     "output_type": "stream",
     "text": [
      "Epoch 00029: early stopping                                                                                            \n",
      "Best validation loss of epoch:                                                                                         \n",
      "1.4794911294302437e-05                                                                                                 \n",
      " 70%|███████████████████████████▎           | 35/50 [2:27:47<1:12:33, 290.22s/trial, best loss: 1.0214214853476733e-05]"
     ]
    },
    {
     "data": {
      "application/vnd.jupyter.widget-view+json": {
       "model_id": "3a2047e4022447e9b29c667757cfd81d",
       "version_major": 2,
       "version_minor": 0
      },
      "text/plain": [
       "|          | 0/? [00:00<?, ?epoch/s]"
      ]
     },
     "metadata": {},
     "output_type": "display_data"
    },
    {
     "data": {
      "application/vnd.jupyter.widget-view+json": {
       "model_id": "",
       "version_major": 2,
       "version_minor": 0
      },
      "text/plain": [
       "|          | 0/? [00:00<?, ?batch/s]"
      ]
     },
     "metadata": {},
     "output_type": "display_data"
    },
    {
     "name": "stdout",
     "output_type": "stream",
     "text": [
      "Epoch 00060: early stopping                                                                                            \n",
      "Best validation loss of epoch:                                                                                         \n",
      "1.768181027728133e-05                                                                                                  \n",
      " 72%|████████████████████████████           | 36/50 [2:30:48<1:00:01, 257.25s/trial, best loss: 1.0214214853476733e-05]"
     ]
    },
    {
     "data": {
      "application/vnd.jupyter.widget-view+json": {
       "model_id": "f446ad21db5942e295a63351dc3592cc",
       "version_major": 2,
       "version_minor": 0
      },
      "text/plain": [
       "|          | 0/? [00:00<?, ?epoch/s]"
      ]
     },
     "metadata": {},
     "output_type": "display_data"
    },
    {
     "data": {
      "application/vnd.jupyter.widget-view+json": {
       "model_id": "",
       "version_major": 2,
       "version_minor": 0
      },
      "text/plain": [
       "|          | 0/? [00:00<?, ?batch/s]"
      ]
     },
     "metadata": {},
     "output_type": "display_data"
    },
    {
     "name": "stdout",
     "output_type": "stream",
     "text": [
      "Epoch 00035: early stopping                                                                                            \n",
      "Best validation loss of epoch:                                                                                         \n",
      "1.339232039754279e-05                                                                                                  \n",
      " 74%|██████████████████████████████▎          | 37/50 [2:34:36<53:52, 248.69s/trial, best loss: 1.0214214853476733e-05]"
     ]
    },
    {
     "data": {
      "application/vnd.jupyter.widget-view+json": {
       "model_id": "26fe9adf50054b37a8bcc57c0b927521",
       "version_major": 2,
       "version_minor": 0
      },
      "text/plain": [
       "|          | 0/? [00:00<?, ?epoch/s]"
      ]
     },
     "metadata": {},
     "output_type": "display_data"
    },
    {
     "data": {
      "application/vnd.jupyter.widget-view+json": {
       "model_id": "",
       "version_major": 2,
       "version_minor": 0
      },
      "text/plain": [
       "|          | 0/? [00:00<?, ?batch/s]"
      ]
     },
     "metadata": {},
     "output_type": "display_data"
    },
    {
     "name": "stdout",
     "output_type": "stream",
     "text": [
      "Epoch 00040: early stopping                                                                                            \n",
      "Best validation loss of epoch:                                                                                         \n",
      "1.2563602467707824e-05                                                                                                 \n",
      " 76%|███████████████████████████████▏         | 38/50 [2:36:37<42:03, 210.28s/trial, best loss: 1.0214214853476733e-05]"
     ]
    },
    {
     "data": {
      "application/vnd.jupyter.widget-view+json": {
       "model_id": "2b72e06ef2a74650be3eeba1d56b8f2f",
       "version_major": 2,
       "version_minor": 0
      },
      "text/plain": [
       "|          | 0/? [00:00<?, ?epoch/s]"
      ]
     },
     "metadata": {},
     "output_type": "display_data"
    },
    {
     "data": {
      "application/vnd.jupyter.widget-view+json": {
       "model_id": "",
       "version_major": 2,
       "version_minor": 0
      },
      "text/plain": [
       "|          | 0/? [00:00<?, ?batch/s]"
      ]
     },
     "metadata": {},
     "output_type": "display_data"
    },
    {
     "name": "stdout",
     "output_type": "stream",
     "text": [
      "Epoch 00078: early stopping                                                                                            \n",
      "Best validation loss of epoch:                                                                                         \n",
      "1.160013289336348e-05                                                                                                  \n",
      " 78%|███████████████████████████████▉         | 39/50 [2:40:34<40:02, 218.36s/trial, best loss: 1.0214214853476733e-05]"
     ]
    },
    {
     "data": {
      "application/vnd.jupyter.widget-view+json": {
       "model_id": "cd52597aba6346078cbbcd277c38ad35",
       "version_major": 2,
       "version_minor": 0
      },
      "text/plain": [
       "|          | 0/? [00:00<?, ?epoch/s]"
      ]
     },
     "metadata": {},
     "output_type": "display_data"
    },
    {
     "data": {
      "application/vnd.jupyter.widget-view+json": {
       "model_id": "",
       "version_major": 2,
       "version_minor": 0
      },
      "text/plain": [
       "|          | 0/? [00:00<?, ?batch/s]"
      ]
     },
     "metadata": {},
     "output_type": "display_data"
    },
    {
     "name": "stdout",
     "output_type": "stream",
     "text": [
      "Epoch 00057: early stopping                                                                                            \n",
      "Best validation loss of epoch:                                                                                         \n",
      "1.710772266960703e-05                                                                                                  \n",
      " 80%|████████████████████████████████▊        | 40/50 [2:46:35<43:30, 261.07s/trial, best loss: 1.0214214853476733e-05]"
     ]
    },
    {
     "data": {
      "application/vnd.jupyter.widget-view+json": {
       "model_id": "eec9da72afef438f9a1ef079e50997cd",
       "version_major": 2,
       "version_minor": 0
      },
      "text/plain": [
       "|          | 0/? [00:00<?, ?epoch/s]"
      ]
     },
     "metadata": {},
     "output_type": "display_data"
    },
    {
     "data": {
      "application/vnd.jupyter.widget-view+json": {
       "model_id": "",
       "version_major": 2,
       "version_minor": 0
      },
      "text/plain": [
       "|          | 0/? [00:00<?, ?batch/s]"
      ]
     },
     "metadata": {},
     "output_type": "display_data"
    },
    {
     "name": "stdout",
     "output_type": "stream",
     "text": [
      "Epoch 00054: early stopping                                                                                            \n",
      "Best validation loss of epoch:                                                                                         \n",
      "1.2861945833719801e-05                                                                                                 \n",
      " 82%|███████████████████████████████▉       | 41/50 [3:01:02<1:06:24, 442.75s/trial, best loss: 1.0214214853476733e-05]"
     ]
    },
    {
     "data": {
      "application/vnd.jupyter.widget-view+json": {
       "model_id": "f95f96c042a041d1b142bc857e5e5cb9",
       "version_major": 2,
       "version_minor": 0
      },
      "text/plain": [
       "|          | 0/? [00:00<?, ?epoch/s]"
      ]
     },
     "metadata": {},
     "output_type": "display_data"
    },
    {
     "data": {
      "application/vnd.jupyter.widget-view+json": {
       "model_id": "",
       "version_major": 2,
       "version_minor": 0
      },
      "text/plain": [
       "|          | 0/? [00:00<?, ?batch/s]"
      ]
     },
     "metadata": {},
     "output_type": "display_data"
    },
    {
     "name": "stdout",
     "output_type": "stream",
     "text": [
      "Epoch 00060: early stopping                                                                                            \n",
      "Best validation loss of epoch:                                                                                         \n",
      "1.196668017655611e-05                                                                                                  \n",
      " 84%|████████████████████████████████▊      | 42/50 [3:10:46<1:04:40, 485.12s/trial, best loss: 1.0214214853476733e-05]"
     ]
    },
    {
     "data": {
      "application/vnd.jupyter.widget-view+json": {
       "model_id": "a324031c19de4340969652669db5e073",
       "version_major": 2,
       "version_minor": 0
      },
      "text/plain": [
       "|          | 0/? [00:00<?, ?epoch/s]"
      ]
     },
     "metadata": {},
     "output_type": "display_data"
    },
    {
     "data": {
      "application/vnd.jupyter.widget-view+json": {
       "model_id": "",
       "version_major": 2,
       "version_minor": 0
      },
      "text/plain": [
       "|          | 0/? [00:00<?, ?batch/s]"
      ]
     },
     "metadata": {},
     "output_type": "display_data"
    },
    {
     "name": "stdout",
     "output_type": "stream",
     "text": [
      "Epoch 00080: early stopping                                                                                            \n",
      "Best validation loss of epoch:                                                                                         \n",
      "1.1770091077778488e-05                                                                                                 \n",
      " 86%|███████████████████████████████████▎     | 43/50 [3:14:07<46:39, 399.95s/trial, best loss: 1.0214214853476733e-05]"
     ]
    },
    {
     "data": {
      "application/vnd.jupyter.widget-view+json": {
       "model_id": "e25a7493648b4696bfccf7d0730cfcad",
       "version_major": 2,
       "version_minor": 0
      },
      "text/plain": [
       "|          | 0/? [00:00<?, ?epoch/s]"
      ]
     },
     "metadata": {},
     "output_type": "display_data"
    },
    {
     "data": {
      "application/vnd.jupyter.widget-view+json": {
       "model_id": "",
       "version_major": 2,
       "version_minor": 0
      },
      "text/plain": [
       "|          | 0/? [00:00<?, ?batch/s]"
      ]
     },
     "metadata": {},
     "output_type": "display_data"
    },
    {
     "name": "stdout",
     "output_type": "stream",
     "text": [
      "Epoch 00062: early stopping                                                                                            \n",
      "Best validation loss of epoch:                                                                                         \n",
      "1.1998371519439388e-05                                                                                                 \n",
      " 88%|████████████████████████████████████     | 44/50 [3:24:42<47:03, 470.53s/trial, best loss: 1.0214214853476733e-05]"
     ]
    },
    {
     "data": {
      "application/vnd.jupyter.widget-view+json": {
       "model_id": "ab369bcd95e84614820323719d68190c",
       "version_major": 2,
       "version_minor": 0
      },
      "text/plain": [
       "|          | 0/? [00:00<?, ?epoch/s]"
      ]
     },
     "metadata": {},
     "output_type": "display_data"
    },
    {
     "data": {
      "application/vnd.jupyter.widget-view+json": {
       "model_id": "",
       "version_major": 2,
       "version_minor": 0
      },
      "text/plain": [
       "|          | 0/? [00:00<?, ?batch/s]"
      ]
     },
     "metadata": {},
     "output_type": "display_data"
    },
    {
     "name": "stdout",
     "output_type": "stream",
     "text": [
      "Epoch 00060: early stopping                                                                                            \n",
      "Best validation loss of epoch:                                                                                         \n",
      "1.136124865297461e-05                                                                                                  \n",
      " 90%|████████████████████████████████████▉    | 45/50 [3:28:58<33:51, 406.20s/trial, best loss: 1.0214214853476733e-05]"
     ]
    },
    {
     "data": {
      "application/vnd.jupyter.widget-view+json": {
       "model_id": "6b9f2e4cac7d4defa89379b235d94d7a",
       "version_major": 2,
       "version_minor": 0
      },
      "text/plain": [
       "|          | 0/? [00:00<?, ?epoch/s]"
      ]
     },
     "metadata": {},
     "output_type": "display_data"
    },
    {
     "data": {
      "application/vnd.jupyter.widget-view+json": {
       "model_id": "",
       "version_major": 2,
       "version_minor": 0
      },
      "text/plain": [
       "|          | 0/? [00:00<?, ?batch/s]"
      ]
     },
     "metadata": {},
     "output_type": "display_data"
    },
    {
     "name": "stdout",
     "output_type": "stream",
     "text": [
      "Epoch 00094: early stopping                                                                                            \n",
      "Best validation loss of epoch:                                                                                         \n",
      "1.1523101420607418e-05                                                                                                 \n",
      " 92%|█████████████████████████████████████▋   | 46/50 [3:34:12<25:14, 378.62s/trial, best loss: 1.0214214853476733e-05]"
     ]
    },
    {
     "data": {
      "application/vnd.jupyter.widget-view+json": {
       "model_id": "a3e420545c72487baa8da16ce4d80bd3",
       "version_major": 2,
       "version_minor": 0
      },
      "text/plain": [
       "|          | 0/? [00:00<?, ?epoch/s]"
      ]
     },
     "metadata": {},
     "output_type": "display_data"
    },
    {
     "data": {
      "application/vnd.jupyter.widget-view+json": {
       "model_id": "",
       "version_major": 2,
       "version_minor": 0
      },
      "text/plain": [
       "|          | 0/? [00:00<?, ?batch/s]"
      ]
     },
     "metadata": {},
     "output_type": "display_data"
    },
    {
     "name": "stdout",
     "output_type": "stream",
     "text": [
      "Epoch 00023: early stopping                                                                                            \n",
      "Best validation loss of epoch:                                                                                         \n",
      "3.20703984471038e-05                                                                                                   \n",
      " 94%|██████████████████████████████████████▌  | 47/50 [3:41:42<19:59, 399.95s/trial, best loss: 1.0214214853476733e-05]"
     ]
    },
    {
     "data": {
      "application/vnd.jupyter.widget-view+json": {
       "model_id": "71737304c9094e1e86a6ee08a1349a9b",
       "version_major": 2,
       "version_minor": 0
      },
      "text/plain": [
       "|          | 0/? [00:00<?, ?epoch/s]"
      ]
     },
     "metadata": {},
     "output_type": "display_data"
    },
    {
     "data": {
      "application/vnd.jupyter.widget-view+json": {
       "model_id": "",
       "version_major": 2,
       "version_minor": 0
      },
      "text/plain": [
       "|          | 0/? [00:00<?, ?batch/s]"
      ]
     },
     "metadata": {},
     "output_type": "display_data"
    },
    {
     "name": "stdout",
     "output_type": "stream",
     "text": [
      "Epoch 00086: early stopping                                                                                            \n",
      "Best validation loss of epoch:                                                                                         \n",
      "1.108173091779463e-05                                                                                                  \n",
      " 96%|███████████████████████████████████████▎ | 48/50 [3:44:23<10:56, 328.35s/trial, best loss: 1.0214214853476733e-05]"
     ]
    },
    {
     "data": {
      "application/vnd.jupyter.widget-view+json": {
       "model_id": "4a6cec53c54740c2b7711d53fd625578",
       "version_major": 2,
       "version_minor": 0
      },
      "text/plain": [
       "|          | 0/? [00:00<?, ?epoch/s]"
      ]
     },
     "metadata": {},
     "output_type": "display_data"
    },
    {
     "data": {
      "application/vnd.jupyter.widget-view+json": {
       "model_id": "",
       "version_major": 2,
       "version_minor": 0
      },
      "text/plain": [
       "|          | 0/? [00:00<?, ?batch/s]"
      ]
     },
     "metadata": {},
     "output_type": "display_data"
    },
    {
     "name": "stdout",
     "output_type": "stream",
     "text": [
      "Epoch 00032: early stopping                                                                                            \n",
      "Best validation loss of epoch:                                                                                         \n",
      "1.2980151950614527e-05                                                                                                 \n",
      " 98%|████████████████████████████████████████▏| 49/50 [3:50:45<05:44, 344.31s/trial, best loss: 1.0214214853476733e-05]"
     ]
    },
    {
     "data": {
      "application/vnd.jupyter.widget-view+json": {
       "model_id": "3b9ab14c655843d48c20fa33dbd6918f",
       "version_major": 2,
       "version_minor": 0
      },
      "text/plain": [
       "|          | 0/? [00:00<?, ?epoch/s]"
      ]
     },
     "metadata": {},
     "output_type": "display_data"
    },
    {
     "data": {
      "application/vnd.jupyter.widget-view+json": {
       "model_id": "",
       "version_major": 2,
       "version_minor": 0
      },
      "text/plain": [
       "|          | 0/? [00:00<?, ?batch/s]"
      ]
     },
     "metadata": {},
     "output_type": "display_data"
    },
    {
     "name": "stdout",
     "output_type": "stream",
     "text": [
      "Epoch 00030: early stopping                                                                                            \n",
      "Best validation loss of epoch:                                                                                         \n",
      "2.002948531298898e-05                                                                                                  \n",
      "100%|█████████████████████████████████████████| 50/50 [4:02:25<00:00, 290.90s/trial, best loss: 1.0214214853476733e-05]\n"
     ]
    }
   ],
   "source": [
    "trials = Trials()\n",
    "best = fmin(f_nn, space, algo=tpe.suggest, max_evals=50, trials=trials)\n",
    "\n",
    "best_model = trials.results[np.argmin([r['loss'] for r in trials.results])]['model']\n",
    "best_params = trials.results[np.argmin([r['loss'] for r in trials.results])]['params']\n",
    "\n",
    "worst_model = trials.results[np.argmax([r['loss'] for r in trials.results])]['model']\n",
    "worst_params = trials.results[np.argmax([r['loss'] for r in trials.results])]['params']"
   ]
  },
  {
   "cell_type": "code",
   "execution_count": 8,
   "metadata": {
    "ExecuteTime": {
     "end_time": "2021-01-20T05:38:10.399902Z",
     "start_time": "2021-01-20T05:36:42.291166Z"
    }
   },
   "outputs": [
    {
     "data": {
      "text/plain": [
       "<matplotlib.legend.Legend at 0x209f49097c8>"
      ]
     },
     "execution_count": 8,
     "metadata": {},
     "output_type": "execute_result"
    },
    {
     "data": {
      "image/png": "[encoded data removed]",
      "text/plain": [
       "<Figure size 432x288 with 1 Axes>"
      ]
     },
     "metadata": {
      "needs_background": "light"
     },
     "output_type": "display_data"
    }
   ],
   "source": [
    "# Best window\n",
    "best_window = best_params['window']\n",
    "\n",
    "# Format data\n",
    "Xtrain, ytrain, Xtest, ytest = format_data(window=best_window)\n",
    "\n",
    "Yr = ytest\n",
    "Yp = best_model.predict(Xtest)\n",
    "Yf = ytest.copy()\n",
    "for i in range(len(Yf)):\n",
    "    if i < best_window:\n",
    "        pass\n",
    "    else:\n",
    "        XQ = Xtest[i,:,0]\n",
    "        XT = Yf[i-best_window:i]\n",
    "        Xf = np.vstack((XQ,XT)).T\n",
    "        Xf = np.reshape(Xf, (1, Xf.shape[0], Xf.shape[1])) \n",
    "        Yf[i] = best_model.predict(Xf)[0] \n",
    "        \n",
    "plt.plot(Yr,label='real speed')\n",
    "plt.plot(Yf,label='forecast speed')\n",
    "plt.plot(Yp,label='predicted speed')\n",
    "plt.plot(Xtest[best_window:,0,0],label='gas pedal')\n",
    "plt.ylabel('scaled value',size=14)\n",
    "plt.xlabel('time (s)',size=14)\n",
    "plt.legend()"
   ]
  },
  {
   "cell_type": "markdown",
   "metadata": {},
   "source": [
    "# Worst model results"
   ]
  },
  {
   "cell_type": "code",
   "execution_count": 9,
   "metadata": {
    "ExecuteTime": {
     "end_time": "2021-01-20T05:39:42.366828Z",
     "start_time": "2021-01-20T05:38:10.405067Z"
    }
   },
   "outputs": [
    {
     "data": {
      "text/plain": [
       "<matplotlib.legend.Legend at 0x209f4770a08>"
      ]
     },
     "execution_count": 9,
     "metadata": {},
     "output_type": "execute_result"
    },
    {
     "data": {
      "image/png": "[encoded data removed]",
      "text/plain": [
       "<Figure size 432x288 with 1 Axes>"
      ]
     },
     "metadata": {
      "needs_background": "light"
     },
     "output_type": "display_data"
    }
   ],
   "source": [
    "worst_window = worst_params['window']\n",
    "Xtrain, ytrain, Xtest, ytest = format_data(window=worst_window)\n",
    "\n",
    "Yr = ytest\n",
    "Yp = worst_model.predict(Xtest)\n",
    "Yf = ytest.copy()\n",
    "\n",
    "for i in range(len(Yf)):\n",
    "    if i < worst_window:\n",
    "        pass\n",
    "    else:\n",
    "        XQ = Xtest[i,:,0]\n",
    "        XT = Yf[i-worst_window:i]\n",
    "        Xf = np.vstack((XQ,XT)).T\n",
    "        Xf = np.reshape(Xf, (1, Xf.shape[0], Xf.shape[1])) \n",
    "        Yf[i] = worst_model.predict(Xf)[0] \n",
    "        \n",
    "plt.plot(Yr,label='real speed')\n",
    "plt.plot(Yf,label='forecast speed')\n",
    "plt.plot(Yp,label='predicted speed')\n",
    "plt.plot(Xtest[worst_window:,0,0],label='gas pedal')\n",
    "plt.ylabel('scaled value',size=14)\n",
    "plt.xlabel('time (s)',size=14)\n",
    "plt.legend()"
   ]
  }
 ],
 "metadata": {
  "hide_input": false,
  "kernelspec": {
   "display_name": "Python 3",
   "language": "python",
   "name": "python3"
  },
  "language_info": {
   "codemirror_mode": {
    "name": "ipython",
    "version": 3
   },
   "file_extension": ".py",
   "mimetype": "text/x-python",
   "name": "python",
   "nbconvert_exporter": "python",
   "pygments_lexer": "ipython3",
   "version": "3.7.6"
  },
  "varInspector": {
   "cols": {
    "lenName": 16,
    "lenType": 16,
    "lenVar": 40
   },
   "kernels_config": {
    "python": {
     "delete_cmd_postfix": "",
     "delete_cmd_prefix": "del ",
     "library": "var_list.py",
     "varRefreshCmd": "print(var_dic_list())"
    },
    "r": {
     "delete_cmd_postfix": ") ",
     "delete_cmd_prefix": "rm(",
     "library": "var_list.r",
     "varRefreshCmd": "cat(var_dic_list()) "
    }
   },
   "types_to_exclude": [
    "module",
    "function",
    "builtin_function_or_method",
    "instance",
    "_Feature"
   ],
   "window_display": false
  }
 },
 "nbformat": 4,
 "nbformat_minor": 2
}
