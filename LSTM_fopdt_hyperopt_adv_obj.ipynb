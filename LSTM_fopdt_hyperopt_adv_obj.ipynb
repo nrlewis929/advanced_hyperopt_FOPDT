{
 "cells": [
  {
   "cell_type": "code",
   "execution_count": 1,
   "metadata": {
    "ExecuteTime": {
     "end_time": "2021-01-19T19:46:35.745739Z",
     "start_time": "2021-01-19T19:46:21.725988Z"
    }
   },
   "outputs": [],
   "source": [
    "import numpy as np\n",
    "import pandas as pd\n",
    "import matplotlib.pyplot as plt\n",
    "%matplotlib inline\n",
    "import time\n",
    "import random\n",
    "\n",
    "# For preprocessing\n",
    "from sklearn.preprocessing import MinMaxScaler\n",
    "from sklearn.model_selection import train_test_split \n",
    "\n",
    "# For LSTM model\n",
    "from keras.models import Sequential\n",
    "from keras.layers import Dense\n",
    "from keras.layers import LSTM\n",
    "from keras.layers import Dropout\n",
    "from keras.callbacks import EarlyStopping\n",
    "from tqdm.keras import TqdmCallback\n",
    "\n",
    "# For FOPDT model\n",
    "from scipy.integrate import odeint\n",
    "\n",
    "# For hyperopt (parameter optimization)\n",
    "# ! pip install hyperopt\n",
    "from hyperopt import Trials, STATUS_OK, tpe, fmin, hp"
   ]
  },
  {
   "cell_type": "code",
   "execution_count": 2,
   "metadata": {
    "ExecuteTime": {
     "end_time": "2021-01-19T19:46:35.776739Z",
     "start_time": "2021-01-19T19:46:35.751743Z"
    }
   },
   "outputs": [],
   "source": [
    "# Define functions to generate FOPDT model data\n",
    "def fopdt(y,t,um,Km,taum):\n",
    "    # arguments\n",
    "    #  y      = output\n",
    "    #  t      = time\n",
    "    #  uf     = input linear function (for time shift)\n",
    "    #  Km     = model gain\n",
    "    #  taum   = model time constant\n",
    "    # calculate derivative\n",
    "    dydt = (-(y-yp0) + Km * (um-u0))/taum\n",
    "    return dydt\n",
    "\n",
    "# simulate simple model with x=[Km,taum]\n",
    "def sim_model(Km,taum):\n",
    "    # array for model values\n",
    "    ym = np.zeros(ns)\n",
    "    # initial condition\n",
    "    ym[0] = yp0\n",
    "    # loop through time steps    \n",
    "    for i in range(0,ns-1):\n",
    "        ts = [t[i],t[i+1]]\n",
    "        y1 = odeint(fopdt,ym[i],ts,args=(u[i],Km,taum))\n",
    "        ym[i+1] = y1[-1]\n",
    "    return ym"
   ]
  },
  {
   "cell_type": "code",
   "execution_count": 3,
   "metadata": {
    "ExecuteTime": {
     "end_time": "2021-01-19T19:46:38.435697Z",
     "start_time": "2021-01-19T19:46:35.783739Z"
    },
    "scrolled": true
   },
   "outputs": [
    {
     "data": {
      "image/png": "[encoded data removed]",
      "text/plain": [
       "<Figure size 432x288 with 1 Axes>"
      ]
     },
     "metadata": {
      "needs_background": "light"
     },
     "output_type": "display_data"
    }
   ],
   "source": [
    "# Parameters and time for FOPDT model\n",
    "ns = 10000\n",
    "t = np.linspace(0,ns-1,ns)\n",
    "u = np.zeros(ns)\n",
    "\n",
    "# Additional FOPDT parameters\n",
    "yp0 = 0.0\n",
    "u0 = u[0]\n",
    "Km = 0.67\n",
    "taum = 160.0\n",
    "\n",
    "# Generate step data for u\n",
    "end = 60 # leave 1st minute of u as 0\n",
    "while end <= ns:\n",
    "    start = end\n",
    "    end += random.randint(300,900) # keep new Q1s value for anywhere from 5 to 15 minutes\n",
    "    u[start:end] = random.randint(0,100)\n",
    "\n",
    "# Simulate FOPDT model\n",
    "y = sim_model(Km,taum)\n",
    "\n",
    "# Add Gaussian noise\n",
    "noise = np.random.normal(0,0.2,ns)\n",
    "y += noise\n",
    "\n",
    "# Scale data\n",
    "data = np.vstack((u,y)).T\n",
    "s = MinMaxScaler(feature_range=(0,1))\n",
    "data_s = s.fit_transform(data)\n",
    "\n",
    "# Plot FOPDT model\n",
    "plt.plot(y,':',label='Speed (mph)')\n",
    "plt.plot(u,label='Pedal (%)')\n",
    "plt.axvspan(ns-int(ns/5.0),ns,alpha=0.2,color='gray')\n",
    "plt.xlabel('Time')\n",
    "plt.legend();"
   ]
  },
  {
   "cell_type": "code",
   "execution_count": 4,
   "metadata": {
    "ExecuteTime": {
     "end_time": "2021-01-19T19:47:20.622348Z",
     "start_time": "2021-01-19T19:47:20.605317Z"
    },
    "scrolled": false
   },
   "outputs": [],
   "source": [
    "def format_data(window=30):\n",
    "    # arrange data to LSTM input and output with specified window\n",
    "    X = []\n",
    "    y = []\n",
    "    for i in range(window,len(data_s)):\n",
    "        X.append(data_s[i-window:i])\n",
    "        y.append(data_s[i,1])\n",
    "    \n",
    "    # Format to array for LSTM input\n",
    "    X, y = np.array(X), np.array(y)\n",
    "    \n",
    "    # Split into train and test\n",
    "    Xtrain, Xtest, ytrain, ytest = train_test_split(X,y,test_size=0.2,shuffle=False)        \n",
    "    \n",
    "    return Xtrain, ytrain, Xtest, ytest"
   ]
  },
  {
   "cell_type": "code",
   "execution_count": 5,
   "metadata": {
    "ExecuteTime": {
     "end_time": "2021-01-19T19:47:21.323395Z",
     "start_time": "2021-01-19T19:47:21.314397Z"
    }
   },
   "outputs": [],
   "source": [
    "def forecast(Xtest,ytest,model,window):\n",
    "    Yr = ytest\n",
    "    Yp = model.predict(Xtest)\n",
    "    Yf = ytest.copy()\n",
    "    for i in range(len(Yf)):\n",
    "        if i < window:\n",
    "            pass\n",
    "        else:\n",
    "            XQ = Xtest[i,:,0]\n",
    "            XT = Yf[i-window:i]\n",
    "            Xf = np.vstack((XQ,XT)).T\n",
    "            Xf = np.reshape(Xf, (1, Xf.shape[0], Xf.shape[1])) \n",
    "            Yf[i] = model.predict(Xf)[0] \n",
    "            \n",
    "    return Yr, Yp, Yf\n"
   ]
  },
  {
   "cell_type": "code",
   "execution_count": 6,
   "metadata": {
    "ExecuteTime": {
     "end_time": "2020-12-11T15:15:00.679889Z",
     "start_time": "2020-12-11T15:15:00.666557Z"
    }
   },
   "outputs": [],
   "source": [
    "from hyperopt.pyll.base import scope #quniform returns float, some parameters require int; use this to force int\n",
    "\n",
    "space = {'rate'       : hp.uniform('rate',0.01,0.5),\n",
    "         'units'      : scope.int(hp.quniform('units',10,100,5)),\n",
    "         'batch_size' : scope.int(hp.quniform('batch_size',100,250,25)),\n",
    "         'layers'     : scope.int(hp.quniform('layers',1,6,1)),\n",
    "         'window'     : scope.int(hp.quniform('window',10,50,5))\n",
    "        }"
   ]
  },
  {
   "cell_type": "code",
   "execution_count": 7,
   "metadata": {
    "ExecuteTime": {
     "end_time": "2020-12-11T15:15:00.704775Z",
     "start_time": "2020-12-11T15:15:00.683523Z"
    }
   },
   "outputs": [],
   "source": [
    "def f_nn(params):\n",
    "    # Generate data with given window\n",
    "    Xtrain, ytrain, Xtest, ytest = format_data(window=params['window'])\n",
    "    \n",
    "    # Keras LSTM model\n",
    "    model = Sequential()\n",
    "    \n",
    "    if params['layers'] == 1:\n",
    "        model.add(LSTM(units=params['units'], input_shape=(Xtrain.shape[1],Xtrain.shape[2])))\n",
    "        model.add(Dropout(rate=params['rate']))\n",
    "    else:\n",
    "        # First layer specifies input_shape and returns sequences\n",
    "        model.add(LSTM(units=params['units'], return_sequences=True, input_shape=(Xtrain.shape[1],Xtrain.shape[2])))\n",
    "        model.add(Dropout(rate=params['rate']))\n",
    "        # Middle layers return sequences\n",
    "        for i in range(params['layers']-2):\n",
    "            model.add(LSTM(units=params['units'],return_sequences=True))\n",
    "            model.add(Dropout(rate=params['rate']))\n",
    "        # Last layer doesn't return anything\n",
    "        model.add(LSTM(units=params['units']))\n",
    "        model.add(Dropout(rate=params['rate']))\n",
    "\n",
    "    model.add(Dense(1))\n",
    "    model.compile(optimizer='adam', loss='mean_squared_error')\n",
    "    \n",
    "    es = EarlyStopping(monitor='val_loss',mode='min',verbose=1,patience=15)\n",
    "\n",
    "    result = model.fit(Xtrain, ytrain, verbose=0, validation_split=0.1,\n",
    "                       batch_size=params['batch_size'],\n",
    "                       epochs=200,\n",
    "                       callbacks = [es,TqdmCallback(verbose=1)]\n",
    "                      )\n",
    "    \n",
    "    #get the lowest validation loss of the training epochs\n",
    "    validation_loss = np.amin(result.history['val_loss']) \n",
    "#     print('Best validation loss of epoch:', validation_loss)\n",
    "    val_length = int(0.2*len(ytest))\n",
    "    Xval, yval = Xtrain[-val_length:], ytrain[-val_length:]\n",
    "    \n",
    "    # Evaluate forecast\n",
    "    Yr, Yp, Yf = forecast(Xval,yval,model,params['window'])\n",
    "    mse = np.mean((Yr - Yf)**2)\n",
    "    print('Best forecast loss of epoch:', mse)\n",
    "    \n",
    "    return {'loss': mse, 'status': STATUS_OK, 'model': model, 'params': params}"
   ]
  },
  {
   "cell_type": "code",
   "execution_count": 8,
   "metadata": {
    "ExecuteTime": {
     "end_time": "2020-12-12T23:50:41.095283Z",
     "start_time": "2020-12-11T15:15:00.708551Z"
    }
   },
   "outputs": [
    {
     "name": "stdout",
     "output_type": "stream",
     "text": [
      "Best forecast loss of epoch:                                                                  \n",
      "0.0037929362942308274                                                                         \n",
      "Best forecast loss of epoch:                                                                  \n",
      "0.00013896756869821698                                                                        \n",
      "Best forecast loss of epoch:                                                                  \n",
      "0.0009813922499425953                                                                         \n",
      "Best forecast loss of epoch:                                                                  \n",
      "0.04824185545737728                                                                           \n",
      "Best forecast loss of epoch:                                                                  \n",
      "0.00011055744901651366                                                                        \n",
      "Best forecast loss of epoch:                                                                  \n",
      "0.0007661149257734992                                                                         \n",
      "Best forecast loss of epoch:                                                                  \n",
      "0.004323272889355743                                                                          \n",
      "Best forecast loss of epoch:                                                                  \n",
      "0.00015553581183585963                                                                        \n",
      "Best forecast loss of epoch:                                                                  \n",
      "8.807335244486302e-05                                                                         \n",
      "Best forecast loss of epoch:                                                                  \n",
      "0.0015324158067547276                                                                         \n",
      "Best forecast loss of epoch:                                                                  \n",
      "0.002574768216615052                                                                          \n",
      "Best forecast loss of epoch:                                                                  \n",
      "0.005643547256767854                                                                          \n",
      "Best forecast loss of epoch:                                                                  \n",
      "0.0005854664638188946                                                                         \n",
      "Best forecast loss of epoch:                                                                  \n",
      "7.13043340041928e-05                                                                          \n",
      "Best forecast loss of epoch:                                                                  \n",
      "0.0030350846362086283                                                                         \n",
      "Best forecast loss of epoch:                                                                  \n",
      "0.016838116612302792                                                                          \n",
      "Best forecast loss of epoch:                                                                  \n",
      "0.007218833580590649                                                                          \n",
      "Best forecast loss of epoch:                                                                  \n",
      "0.0015092479958428106                                                                         \n",
      "Best forecast loss of epoch:                                                                  \n",
      "0.003681152882481724                                                                          \n",
      "Best forecast loss of epoch:                                                                  \n",
      "0.004524785213461893                                                                          \n",
      "Best forecast loss of epoch:                                                                  \n",
      "0.002782049921860055                                                                          \n",
      "Best forecast loss of epoch:                                                                  \n",
      "0.004867406938041336                                                                          \n",
      "Best forecast loss of epoch:                                                                  \n",
      "0.0005833206162789775                                                                         \n",
      "Best forecast loss of epoch:                                                                  \n",
      "0.015640321218386165                                                                          \n",
      "Best forecast loss of epoch:                                                                  \n",
      "0.0007760431757203075                                                                         \n",
      "Best forecast loss of epoch:                                                                  \n",
      "0.0014286070732620229                                                                         \n",
      "Best forecast loss of epoch:                                                                  \n",
      "0.006333768830523558                                                                          \n",
      "Best forecast loss of epoch:                                                                  \n",
      "0.006470827034386521                                                                          \n",
      "Best forecast loss of epoch:                                                                  \n",
      "0.027529526270853366                                                                          \n",
      "Best forecast loss of epoch:                                                                  \n",
      "5.784430368579611e-05                                                                         \n",
      "Best forecast loss of epoch:                                                                  \n",
      "0.00040360201850528143                                                                        \n",
      "Best forecast loss of epoch:                                                                  \n",
      "0.002873077485878149                                                                          \n",
      "Best forecast loss of epoch:                                                                  \n",
      "0.0025907309117205774                                                                         \n",
      "Best forecast loss of epoch:                                                                  \n",
      "5.364815142784277e-05                                                                         \n",
      "Best forecast loss of epoch:                                                                  \n",
      "0.004370120517421074                                                                          \n",
      "Best forecast loss of epoch:                                                                  \n",
      "0.0010516396279141315                                                                         \n",
      "Best forecast loss of epoch:                                                                  \n",
      "0.0023313604968807776                                                                         \n",
      "Best forecast loss of epoch:                                                                  \n",
      "0.004215410456768059                                                                          \n",
      "Best forecast loss of epoch:                                                                  \n",
      "1.2537826344586835e-05                                                                        \n",
      "Best forecast loss of epoch:                                                                  \n",
      "0.005440288691379256                                                                          \n",
      "Best forecast loss of epoch:                                                                  \n",
      "0.008428932801157524                                                                          \n",
      "Best forecast loss of epoch:                                                                  \n",
      "0.0015874144259005842                                                                         \n",
      "Best forecast loss of epoch:                                                                  \n",
      "0.0001464923597525385                                                                         \n",
      "Best forecast loss of epoch:                                                                  \n",
      "0.006203795227498932                                                                          \n",
      "Best forecast loss of epoch:                                                                  \n",
      "0.001666233306918113                                                                          \n",
      "Best forecast loss of epoch:                                                                  \n",
      "0.001436852549823297                                                                          \n",
      "Best forecast loss of epoch:                                                                  \n",
      "0.0010687823622436028                                                                         \n",
      "Best forecast loss of epoch:                                                                  \n",
      "0.003080582021222773                                                                          \n",
      "Best forecast loss of epoch:                                                                  \n",
      "0.0002752257913515667                                                                         \n",
      "Best forecast loss of epoch:                                                                  \n",
      "2.5372824968620377e-05                                                                        \n",
      "100%|██████████████| 50/50 [32:35:40<00:00, 2346.81s/trial, best loss: 1.2537826344586835e-05]\n"
     ]
    }
   ],
   "source": [
    "trials = Trials()\n",
    "best = fmin(f_nn, space, algo=tpe.suggest, max_evals=50, trials=trials)\n",
    "\n",
    "best_model = trials.results[np.argmin([r['loss'] for r in trials.results])]['model']\n",
    "best_params = trials.results[np.argmin([r['loss'] for r in trials.results])]['params']\n",
    "\n",
    "worst_model = trials.results[np.argmax([r['loss'] for r in trials.results])]['model']\n",
    "worst_params = trials.results[np.argmax([r['loss'] for r in trials.results])]['params']"
   ]
  },
  {
   "cell_type": "code",
   "execution_count": 26,
   "metadata": {
    "ExecuteTime": {
     "end_time": "2020-12-14T16:46:13.705049Z",
     "start_time": "2020-12-14T16:44:26.921939Z"
    }
   },
   "outputs": [
    {
     "data": {
      "text/plain": [
       "<matplotlib.legend.Legend at 0x15499faa188>"
      ]
     },
     "execution_count": 26,
     "metadata": {},
     "output_type": "execute_result"
    },
    {
     "data": {
      "image/png": "[encoded data removed]",
      "text/plain": [
       "<Figure size 432x288 with 1 Axes>"
      ]
     },
     "metadata": {
      "needs_background": "light"
     },
     "output_type": "display_data"
    }
   ],
   "source": [
    "# Best window\n",
    "best_window = best_params['window']\n",
    "\n",
    "# Format data\n",
    "Xtrain, ytrain, Xtest, ytest = format_data(window=best_window)\n",
    "Yr, Yp, Yf = forecast(Xtest,ytest,best_model,best_window)\n",
    "        \n",
    "plt.plot(Yr,label='real speed')\n",
    "plt.plot(Yf,label='forecast speed')\n",
    "plt.plot(Yp,label='predicted speed')\n",
    "plt.plot(Xtest[best_window:,0,0],label='gas pedal')\n",
    "plt.ylabel('scaled value',size=14)\n",
    "plt.xlabel('time (s)',size=14)\n",
    "plt.legend()"
   ]
  },
  {
   "cell_type": "markdown",
   "metadata": {},
   "source": [
    "# Worst model results"
   ]
  },
  {
   "cell_type": "code",
   "execution_count": 25,
   "metadata": {
    "ExecuteTime": {
     "end_time": "2020-12-14T16:44:26.900937Z",
     "start_time": "2020-12-14T16:41:29.173708Z"
    }
   },
   "outputs": [
    {
     "data": {
      "text/plain": [
       "<matplotlib.legend.Legend at 0x154c2758a08>"
      ]
     },
     "execution_count": 25,
     "metadata": {},
     "output_type": "execute_result"
    },
    {
     "data": {
      "image/png": "[encoded data removed]",
      "text/plain": [
       "<Figure size 432x288 with 1 Axes>"
      ]
     },
     "metadata": {
      "needs_background": "light"
     },
     "output_type": "display_data"
    }
   ],
   "source": [
    "worst_window = worst_params['window']\n",
    "Xtrain, ytrain, Xtest, ytest = format_data(window=worst_window)\n",
    "Yr, Yp, Yf = forecast(Xtest,ytest,worst_model,worst_window)\n",
    "        \n",
    "plt.plot(Yr,label='real speed')\n",
    "plt.plot(Yf,label='forecast speed')\n",
    "plt.plot(Yp,label='predicted speed')\n",
    "plt.plot(Xtest[worst_window:,0,0],label='gas pedal')\n",
    "plt.ylabel('scaled value',size=14)\n",
    "plt.xlabel('time (s)',size=14)\n",
    "plt.legend()"
   ]
  }
 ],
 "metadata": {
  "hide_input": false,
  "kernelspec": {
   "display_name": "Python 3",
   "language": "python",
   "name": "python3"
  },
  "language_info": {
   "codemirror_mode": {
    "name": "ipython",
    "version": 3
   },
   "file_extension": ".py",
   "mimetype": "text/x-python",
   "name": "python",
   "nbconvert_exporter": "python",
   "pygments_lexer": "ipython3",
   "version": "3.7.6"
  },
  "varInspector": {
   "cols": {
    "lenName": 16,
    "lenType": 16,
    "lenVar": 40
   },
   "kernels_config": {
    "python": {
     "delete_cmd_postfix": "",
     "delete_cmd_prefix": "del ",
     "library": "var_list.py",
     "varRefreshCmd": "print(var_dic_list())"
    },
    "r": {
     "delete_cmd_postfix": ") ",
     "delete_cmd_prefix": "rm(",
     "library": "var_list.r",
     "varRefreshCmd": "cat(var_dic_list()) "
    }
   },
   "types_to_exclude": [
    "module",
    "function",
    "builtin_function_or_method",
    "instance",
    "_Feature"
   ],
   "window_display": false
  }
 },
 "nbformat": 4,
 "nbformat_minor": 2
}
