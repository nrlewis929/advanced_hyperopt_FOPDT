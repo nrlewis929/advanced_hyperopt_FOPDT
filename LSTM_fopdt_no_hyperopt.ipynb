{
 "cells": [
  {
   "cell_type": "code",
   "execution_count": 1,
   "metadata": {
    "ExecuteTime": {
     "end_time": "2021-01-19T23:54:51.545314Z",
     "start_time": "2021-01-19T23:54:47.740274Z"
    }
   },
   "outputs": [],
   "source": [
    "import numpy as np\n",
    "import pandas as pd\n",
    "import matplotlib.pyplot as plt\n",
    "%matplotlib inline\n",
    "import time\n",
    "import random\n",
    "\n",
    "# For preprocessing\n",
    "from sklearn.preprocessing import MinMaxScaler\n",
    "from sklearn.model_selection import train_test_split \n",
    "\n",
    "# For LSTM model\n",
    "from keras.models import Sequential\n",
    "from keras.layers import Dense\n",
    "from keras.layers import LSTM\n",
    "from keras.layers import Dropout\n",
    "from keras.callbacks import EarlyStopping\n",
    "\n",
    "# For FOPDT model\n",
    "from scipy.integrate import odeint\n",
    "\n",
    "# For hyperopt (parameter optimization)\n",
    "# ! pip install hyperopt\n",
    "from hyperopt import Trials, STATUS_OK, tpe, fmin, hp"
   ]
  },
  {
   "cell_type": "code",
   "execution_count": 2,
   "metadata": {
    "ExecuteTime": {
     "end_time": "2021-01-19T23:54:51.560519Z",
     "start_time": "2021-01-19T23:54:51.545314Z"
    }
   },
   "outputs": [],
   "source": [
    "# Define functions to generate FOPDT model data\n",
    "def fopdt(y,t,um,Km,taum):\n",
    "    # arguments\n",
    "    #  y      = output\n",
    "    #  t      = time\n",
    "    #  uf     = input linear function (for time shift)\n",
    "    #  Km     = model gain\n",
    "    #  taum   = model time constant\n",
    "    # calculate derivative\n",
    "    dydt = (-(y-yp0) + Km * (um-u0))/taum\n",
    "    return dydt\n",
    "\n",
    "# simulate simple model with x=[Km,taum]\n",
    "def sim_model(Km,taum):\n",
    "    # array for model values\n",
    "    ym = np.zeros(ns)\n",
    "    # initial condition\n",
    "    ym[0] = yp0\n",
    "    # loop through time steps    \n",
    "    for i in range(0,ns-1):\n",
    "        ts = [t[i],t[i+1]]\n",
    "        y1 = odeint(fopdt,ym[i],ts,args=(u[i],Km,taum))\n",
    "        ym[i+1] = y1[-1]\n",
    "    return ym"
   ]
  },
  {
   "cell_type": "code",
   "execution_count": 3,
   "metadata": {
    "ExecuteTime": {
     "end_time": "2021-01-19T23:54:52.358223Z",
     "start_time": "2021-01-19T23:54:51.562473Z"
    },
    "scrolled": true
   },
   "outputs": [
    {
     "data": {
      "image/png": "[encoded data removed]",
      "text/plain": [
       "<Figure size 432x288 with 1 Axes>"
      ]
     },
     "metadata": {
      "needs_background": "light"
     },
     "output_type": "display_data"
    }
   ],
   "source": [
    "# Parameters and time for FOPDT model\n",
    "ns = 10000\n",
    "t = np.linspace(0,ns-1,ns)\n",
    "u = np.zeros(ns)\n",
    "\n",
    "# Additional FOPDT parameters\n",
    "yp0 = 0.0\n",
    "u0 = u[0]\n",
    "Km = 0.67\n",
    "taum = 160.0\n",
    "\n",
    "# Generate step data for u\n",
    "end = 60 # leave 1st minute of u as 0\n",
    "while end <= ns:\n",
    "    start = end\n",
    "    end += random.randint(300,900) # keep new Q1s value for anywhere from 5 to 15 minutes\n",
    "    u[start:end] = random.randint(0,100)\n",
    "\n",
    "# Simulate FOPDT model\n",
    "y = sim_model(Km,taum)\n",
    "\n",
    "# Add Gaussian noise\n",
    "noise = np.random.normal(0,0.2,ns)\n",
    "y += noise\n",
    "\n",
    "# Scale data\n",
    "data = np.vstack((u,y)).T\n",
    "s = MinMaxScaler(feature_range=(0,1))\n",
    "data_s = s.fit_transform(data)\n",
    "\n",
    "# Plot FOPDT model\n",
    "plt.plot(y,':',label='Speed (mph)')\n",
    "plt.plot(u,label='Pedal (%)')\n",
    "plt.axvspan(ns-int(ns/5.0),ns,alpha=0.2,color='gray')\n",
    "plt.xlabel('Time')\n",
    "plt.legend();"
   ]
  },
  {
   "cell_type": "code",
   "execution_count": 4,
   "metadata": {
    "ExecuteTime": {
     "end_time": "2021-01-19T23:54:52.379606Z",
     "start_time": "2021-01-19T23:54:52.360314Z"
    },
    "scrolled": false
   },
   "outputs": [],
   "source": [
    "def format_data(window=30):\n",
    "    # arrange data to LSTM input and output with specified window\n",
    "    X = []\n",
    "    y = []\n",
    "    for i in range(window,len(data_s)):\n",
    "        X.append(data_s[i-window:i])\n",
    "        y.append(data_s[i,1])\n",
    "    \n",
    "    # Format to array for LSTM input\n",
    "    X, y = np.array(X), np.array(y)\n",
    "    \n",
    "    # Split into train and test\n",
    "    Xtrain, Xtest, ytrain, ytest = train_test_split(X,y,test_size=0.2,shuffle=False)        \n",
    "    \n",
    "    return Xtrain, ytrain, Xtest, ytest"
   ]
  },
  {
   "cell_type": "code",
   "execution_count": 5,
   "metadata": {
    "ExecuteTime": {
     "end_time": "2021-01-19T23:54:52.385778Z",
     "start_time": "2021-01-19T23:54:52.379606Z"
    }
   },
   "outputs": [],
   "source": [
    "window = 5"
   ]
  },
  {
   "cell_type": "code",
   "execution_count": 6,
   "metadata": {
    "ExecuteTime": {
     "end_time": "2021-01-19T23:55:09.033885Z",
     "start_time": "2021-01-19T23:54:52.385778Z"
    }
   },
   "outputs": [
    {
     "name": "stdout",
     "output_type": "stream",
     "text": [
      "Epoch 00078: early stopping\n"
     ]
    }
   ],
   "source": [
    "# Generate data with given window\n",
    "Xtrain, ytrain, Xtest, ytest = format_data(window=window)\n",
    "    \n",
    "# Keras LSTM model\n",
    "model = Sequential()\n",
    "    \n",
    "model.add(LSTM(units = 3, \n",
    "                input_shape = (Xtrain.shape[1],Xtrain.shape[2])\n",
    "               )\n",
    "          )\n",
    "model.add(Dropout(rate = 0.3))\n",
    "model.add(Dense(1))\n",
    "model.compile(optimizer='adam', loss='mean_squared_error')\n",
    "    \n",
    "es = EarlyStopping(monitor='val_loss',mode='min',verbose=1,patience=15)\n",
    "result = model.fit(Xtrain, ytrain, verbose=0, validation_split=0.1,\n",
    "                   batch_size=100,\n",
    "                   epochs=200,\n",
    "                   callbacks = [es]\n",
    "                  )"
   ]
  },
  {
   "cell_type": "code",
   "execution_count": 7,
   "metadata": {
    "ExecuteTime": {
     "end_time": "2021-01-19T23:56:06.998491Z",
     "start_time": "2021-01-19T23:55:09.035863Z"
    }
   },
   "outputs": [
    {
     "data": {
      "text/plain": [
       "<matplotlib.legend.Legend at 0x236593d5cc8>"
      ]
     },
     "execution_count": 7,
     "metadata": {},
     "output_type": "execute_result"
    },
    {
     "data": {
      "image/png": "[encoded data removed]",
      "text/plain": [
       "<Figure size 432x288 with 1 Axes>"
      ]
     },
     "metadata": {
      "needs_background": "light"
     },
     "output_type": "display_data"
    }
   ],
   "source": [
    "Yr = ytest\n",
    "Yp = model.predict(Xtest)\n",
    "Yf = ytest.copy()\n",
    "for i in range(len(Yf)):\n",
    "    if i < window:\n",
    "        pass\n",
    "    else:\n",
    "        XQ = Xtest[i,:,0]\n",
    "        XT = Yf[i-window:i]\n",
    "        Xf = np.vstack((XQ,XT)).T\n",
    "        Xf = np.reshape(Xf, (1, Xf.shape[0], Xf.shape[1])) \n",
    "        Yf[i] = model.predict(Xf)[0] \n",
    "        \n",
    "plt.plot(Yr,label='real speed')\n",
    "plt.plot(Yf,label='forecast speed')\n",
    "plt.plot(Yp,label='predicted speed')\n",
    "plt.plot(Xtest[window:,0,0],label='gas pedal')\n",
    "plt.ylabel('scaled value',size=14)\n",
    "plt.xlabel('time (s)',size=14)\n",
    "plt.legend()"
   ]
  }
 ],
 "metadata": {
  "hide_input": false,
  "kernelspec": {
   "display_name": "Python 3",
   "language": "python",
   "name": "python3"
  },
  "language_info": {
   "codemirror_mode": {
    "name": "ipython",
    "version": 3
   },
   "file_extension": ".py",
   "mimetype": "text/x-python",
   "name": "python",
   "nbconvert_exporter": "python",
   "pygments_lexer": "ipython3",
   "version": "3.7.6"
  },
  "varInspector": {
   "cols": {
    "lenName": 16,
    "lenType": 16,
    "lenVar": 40
   },
   "kernels_config": {
    "python": {
     "delete_cmd_postfix": "",
     "delete_cmd_prefix": "del ",
     "library": "var_list.py",
     "varRefreshCmd": "print(var_dic_list())"
    },
    "r": {
     "delete_cmd_postfix": ") ",
     "delete_cmd_prefix": "rm(",
     "library": "var_list.r",
     "varRefreshCmd": "cat(var_dic_list()) "
    }
   },
   "types_to_exclude": [
    "module",
    "function",
    "builtin_function_or_method",
    "instance",
    "_Feature"
   ],
   "window_display": false
  }
 },
 "nbformat": 4,
 "nbformat_minor": 2
}
